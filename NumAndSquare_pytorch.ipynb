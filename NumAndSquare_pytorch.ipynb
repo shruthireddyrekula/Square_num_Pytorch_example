{
  "nbformat": 4,
  "nbformat_minor": 0,
  "metadata": {
    "colab": {
      "provenance": [],
      "authorship_tag": "ABX9TyPVsfcXqfnPHDgTmofSNZVE",
      "include_colab_link": true
    },
    "kernelspec": {
      "name": "python3",
      "display_name": "Python 3"
    },
    "language_info": {
      "name": "python"
    }
  },
  "cells": [
    {
      "cell_type": "markdown",
      "metadata": {
        "id": "view-in-github",
        "colab_type": "text"
      },
      "source": [
        "<a href=\"https://colab.research.google.com/github/shruthireddyrekula/Square_num_Pytorch_example/blob/main/NumAndSquare_pytorch.ipynb\" target=\"_parent\"><img src=\"https://colab.research.google.com/assets/colab-badge.svg\" alt=\"Open In Colab\"/></a>"
      ]
    },
    {
      "cell_type": "code",
      "execution_count": null,
      "metadata": {
        "id": "XemJLKYFvHwy"
      },
      "outputs": [],
      "source": [
        "import torch.nn as nn\n",
        "import torch.nn.functional as F\n",
        "\n",
        "class SimpleModel(nn.Module):\n",
        "    def __init__(self):\n",
        "        super(SimpleModel, self).__init__()\n",
        "        self.fc1 = nn.Linear(1, 64)\n",
        "        self.fc2 = nn.Linear(64, 64)\n",
        "        self.fc3 = nn.Linear(64, 1)\n",
        "        self.layer_norm = nn.LayerNorm(64)\n",
        "        self.activation = nn.ReLU()\n",
        "\n",
        "    def forward(self, x):\n",
        "        x = self.activation(self.fc1(x))\n",
        "        x = self.activation(self.fc2(x))\n",
        "        c=self.layer_norm(x)\n",
        "        return self.fc3(c)\n",
        "model = SimpleModel()\n",
        "\n",
        "for name, param in model.named_parameters():\n",
        "    print(name, param.shape)"
      ]
    },
    {
      "cell_type": "code",
      "source": [
        "for param in model.parameters():\n",
        "    print(param.requires_grad)"
      ],
      "metadata": {
        "id": "oP-S12mkvNTN"
      },
      "execution_count": null,
      "outputs": []
    },
    {
      "cell_type": "code",
      "source": [
        "def sortList(nums):\n",
        "    count_dict = {}\n",
        "    for num in range(nums):\n",
        "        if num not in count_dict:\n",
        "            count_dict[num] = num*num\n",
        "    return count_dict\n",
        "data=sortList(20)"
      ],
      "metadata": {
        "id": "_3mklwTXvSJH"
      },
      "execution_count": null,
      "outputs": []
    },
    {
      "cell_type": "code",
      "source": [
        "dataset = [[key, value] for key, value in data.items()]"
      ],
      "metadata": {
        "id": "f8mfs8wznkYn"
      },
      "execution_count": null,
      "outputs": []
    },
    {
      "cell_type": "code",
      "source": [
        "import torch\n",
        "train_loader = torch.utils.data.DataLoader(dataset, batch_size=2, shuffle=True)"
      ],
      "metadata": {
        "id": "tMXkwAhbvUWF"
      },
      "execution_count": null,
      "outputs": []
    },
    {
      "cell_type": "code",
      "source": [
        "for num,sq in train_loader:\n",
        "  print(num.shape)\n",
        "  print(sq.shape)\n",
        "  break"
      ],
      "metadata": {
        "id": "BWf_Fpt2vXGd"
      },
      "execution_count": null,
      "outputs": []
    },
    {
      "cell_type": "code",
      "source": [
        "import torch.optim as optim\n",
        "epochs = 50\n",
        "model = SimpleModel()\n",
        "for param in model.parameters():\n",
        "    param.requires_grad = True\n",
        "criterion = nn.MSELoss()\n",
        "optimizer = torch.optim.Adam(model.parameters(), lr=0.0001)\n",
        "\n",
        "\n",
        "for epoch in range(epochs):\n",
        "  model.train()\n",
        "  for num,sq in train_loader:\n",
        "    output = model(num.unsqueeze(1).float())\n",
        "    loss = criterion(output, sq.float())\n",
        "    optimizer.zero_grad()\n",
        "    loss.backward()\n",
        "    optimizer.step()\n",
        "  model.eval()\n",
        "  test_data = torch.tensor([[2, 4],\n",
        "                          [3, 9],\n",
        "                          [4, 16],\n",
        "                          [5, 25],\n",
        "                          [7, 49],\n",
        "                          [6, 36],\n",
        "                          [10, 100],\n",
        "                          [11, 121],\n",
        "                          [9, 81],\n",
        "                          [8, 64]], dtype=torch.float32)\n",
        "  numbers = test_data[:, 0]\n",
        "  squares_actual = test_data[:, 1]\n",
        "  with torch.no_grad():  # Ensure no gradients are computed during inference\n",
        "    predictions = model(numbers.unsqueeze(1))\n",
        "\n",
        "# Print the results\n",
        "  total_correct = 0\n",
        "  for num, pred, actual in zip(numbers, predictions, squares_actual):\n",
        "    if abs(actual-pred) <= 5:\n",
        "      total_correct += 1\n",
        "  res = total_correct*1.0/(test_data.shape[0])\n",
        "  print(f\"Accuracy,{res*100}\")\n",
        "  print(f\"Epoch {epoch + 1}/{epochs}, Loss: {loss.item()}\")"
      ],
      "metadata": {
        "id": "Y_lliZnEvZzU"
      },
      "execution_count": null,
      "outputs": []
    }
  ]
}